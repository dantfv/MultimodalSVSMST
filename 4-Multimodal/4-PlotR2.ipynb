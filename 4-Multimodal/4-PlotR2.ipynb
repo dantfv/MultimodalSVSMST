{
 "cells": [
  {
   "cell_type": "code",
   "execution_count": 2,
   "metadata": {},
   "outputs": [],
   "source": [
    "import pandas as pd\n",
    "import matplotlib.pyplot as plt\n",
    "from sklearn.metrics import r2_score\n",
    "from sklearn.linear_model import LinearRegression\n",
    "from numpy import genfromtxt\n",
    "import os"
   ]
  },
  {
   "cell_type": "code",
   "execution_count": 3,
   "metadata": {},
   "outputs": [],
   "source": [
    "#FOLDS with best results: \n",
    "#SM:\n",
    "#income: FOLD_SM_LATLONG_RIDGE_RANDOM_14Jul23_2058_income/3/\n",
    "#population: FOLD_SM_RIDGE_RANDOM_30May23_2233_population\n",
    "#literacy: FOLD_SM_RIDGE_RANDOM_30May23_2206_literacy\n",
    "#longevity: FOLD_SM_RIDGE_RANDOM_30May23_2219_longevity\n",
    "\n",
    "\n",
    "#SV:\n",
    "#income: FOLD_SV_GROUPED_RIDGE_RANDOM_14Jul23_1827_income\n",
    "#population:\n",
    "#literacy:\n",
    "#longevity:\n",
    "\n",
    "\n",
    "#ST:\n",
    "#income: FOLD_SAT_GRP_RIDGE_RANDOM_31Jul23_1307_income\n",
    "#population: FOLD_SAT_GRP_RIDGE_RANDOM_04Aug23_1455_population\n",
    "#literacy: FOLD_SAT_GRP_RIDGE_RANDOM_04Aug23_1457_literacy\n",
    "#longevity: FOLD_SAT_GRP_RIDGE_RANDOM_04Aug23_1459_longevity\n",
    "\n",
    "\n",
    "#SM-SV-ST:\n",
    "#income: FOLD_SV_SM_SAT_AGG_RIDGE_RANDOM_21Aug23_0113_income/4/\n",
    "#population: FOLD_SV_SM_SAT_AGG_RIDGE_RANDOM_14Aug23_2039_population\n",
    "#literacy: FOLD_SV_SM_SAT_AGG_RIDGE_RANDOM_14Aug23_2039_literacy\n",
    "#longevity: FOLD_SV_SM_SAT_AGG_RIDGE_RANDOM_14Aug23_2040_longevity"
   ]
  },
  {
   "cell_type": "code",
   "execution_count": 4,
   "metadata": {},
   "outputs": [],
   "source": [
    "experiments = [\n",
    "    {\n",
    "        'name': 'SM',\n",
    "        'income': 'FOLD_SM_LATLONG_RIDGE_RANDOM_14Jul23_2058_income/3/',\n",
    "        'population': 'FOLD_SM_BALANCE_RIDGE_RANDOM_28Aug23_2020_population/3',\n",
    "        'literacy': 'FOLD_SM_BALANCE_RIDGE_RANDOM_28Aug23_2020_literacy/0',\n",
    "        'longevity': 'FOLD_SM_BALANCE_RIDGE_RANDOM_28Aug23_2021_longevity/3',\n",
    "    },\n",
    "    {\n",
    "        'name': 'SV',\n",
    "        'income': 'FOLD_SV_AGG_500_RIDGE_RANDOM_28Aug23_2211_income/0',\n",
    "        'population': 'FOLD_SV_AGG_500_RIDGE_RANDOM_29Aug23_0022_population/2',\n",
    "        'literacy': 'FOLD_SV_AGG_500_RIDGE_RANDOM_28Aug23_2319_literacy/2',\n",
    "        'longevity': 'FOLD_SV_AGG_500_RIDGE_RANDOM_29Aug23_0127_longevity/4',\n",
    "    },\n",
    "    {\n",
    "        'name': 'ST',\n",
    "        'income': 'FOLD_SAT_GRP_RIDGE_RANDOM_31Jul23_1307_income/0/',\n",
    "        'population': 'FOLD_SAT_GRP_RIDGE_RANDOM_04Aug23_1455_population/0',\n",
    "        'literacy': 'FOLD_SAT_GRP_RIDGE_RANDOM_04Aug23_1457_literacy/2',\n",
    "        'longevity': 'FOLD_SAT_GRP_RIDGE_RANDOM_04Aug23_1459_longevity/1',\n",
    "    },\n",
    "    {\n",
    "        'name': 'ST-SM-SV',\n",
    "        'income': 'FOLD_SV_SM_SAT_AGG_RIDGE_RANDOM_21Aug23_0113_income/4/',\n",
    "        'population': 'FOLD_SV_SM_SAT_AGG_550_RIDGE_RANDOM_28Aug23_2051_population/4',\n",
    "        'literacy': 'FOLD_SV_SM_SAT_AGG_550_RIDGE_RANDOM_28Aug23_2051_literacy/3',\n",
    "        'longevity': 'FOLD_SV_SM_SAT_AGG_550_RIDGE_RANDOM_28Aug23_2052_longevity/3',\n",
    "    },\n",
    "    \n",
    "]"
   ]
  },
  {
   "cell_type": "code",
   "execution_count": 5,
   "metadata": {},
   "outputs": [],
   "source": [
    "indicators = ['income', 'population', 'literacy', 'longevity']\n"
   ]
  },
  {
   "cell_type": "code",
   "execution_count": 6,
   "metadata": {},
   "outputs": [],
   "source": [
    "output_folder = \"./plots/\""
   ]
  },
  {
   "cell_type": "code",
   "execution_count": 7,
   "metadata": {},
   "outputs": [],
   "source": [
    "# Create output folder if it doesn't exist\n",
    "os.makedirs(output_folder, exist_ok=True)"
   ]
  },
  {
   "cell_type": "code",
   "execution_count": 8,
   "metadata": {},
   "outputs": [],
   "source": [
    "def read_data_and_generate_graph(experiment, indicator):\n",
    "    y_test_path = f\"./{experiment[indicator]}/real.csv\"\n",
    "    y_predicted_path = f\"./{experiment[indicator]}/pred.csv\"\n",
    "\n",
    "    y_test = genfromtxt(y_test_path, delimiter=',')\n",
    "    y_predicted = genfromtxt(y_predicted_path, delimiter=',')\n",
    "\n",
    "    fig, ax = plt.subplots()\n",
    "    ax.scatter(y_test, y_predicted)\n",
    "    ax.plot([0, 1], [0, 1], 'k--', lw=1)\n",
    "    ax.set_xlabel('Actual Value')\n",
    "    ax.set_ylabel('Estimated Value')\n",
    "\n",
    "    y_test_reshaped, y_predicted_reshaped = y_test.reshape(-1, 1), y_predicted.reshape(-1, 1)\n",
    "    regression = LinearRegression().fit(y_test_reshaped, y_predicted_reshaped)\n",
    "    r2 = r2_score(y_test_reshaped, y_predicted_reshaped)\n",
    "    ax.plot(y_test_reshaped, regression.predict(y_test_reshaped))\n",
    "    ax.annotate(\"r-squared = {:.2f}\".format(r2_score(y_test_reshaped, y_predicted_reshaped)), (0, 1))\n",
    "    \n",
    "    ax.set_title(f\"{experiment['name']} {indicator.capitalize()}\")\n",
    "    filename = f\"{experiment['name']}-{indicator}-r2-score-{r2:.2f}.jpg\"\n",
    "    filepath = os.path.join(output_folder, filename)\n",
    "    \n",
    "    plt.savefig(filepath)\n",
    "    plt.close()\n",
    "    #plt.show()"
   ]
  },
  {
   "cell_type": "code",
   "execution_count": 9,
   "metadata": {},
   "outputs": [],
   "source": [
    "for experiment in experiments:\n",
    "    for indicator in indicators:\n",
    "        read_data_and_generate_graph(experiment, indicator)"
   ]
  },
  {
   "cell_type": "code",
   "execution_count": null,
   "metadata": {},
   "outputs": [],
   "source": []
  }
 ],
 "metadata": {
  "kernelspec": {
   "display_name": "Python 3 (Data Science)",
   "language": "python",
   "name": "python3__SAGEMAKER_INTERNAL__arn:aws:sagemaker:us-east-1:081325390199:image/datascience-1.0"
  },
  "language_info": {
   "codemirror_mode": {
    "name": "ipython",
    "version": 3
   },
   "file_extension": ".py",
   "mimetype": "text/x-python",
   "name": "python",
   "nbconvert_exporter": "python",
   "pygments_lexer": "ipython3",
   "version": "3.7.10"
  }
 },
 "nbformat": 4,
 "nbformat_minor": 4
}

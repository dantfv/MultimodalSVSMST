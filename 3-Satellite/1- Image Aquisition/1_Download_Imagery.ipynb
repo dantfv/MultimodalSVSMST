{
 "cells": [
  {
   "cell_type": "markdown",
   "metadata": {
    "id": "XYc9ny3gpTai"
   },
   "source": [
    "<h1>Table of Contents<span class=\"tocSkip\"></span></h1>\n",
    "<div class=\"toc\"><ul class=\"toc-item\"><li><span><a href=\"#Pre-requisites\" data-toc-modified-id=\"Pre-requisites-1\"><span class=\"toc-item-num\">1&nbsp;&nbsp;</span>Pre-requisites</a></span></li><li><span><a href=\"#Instructions\" data-toc-modified-id=\"Instructions-2\"><span class=\"toc-item-num\">2&nbsp;&nbsp;</span>Instructions</a></span></li><li><span><a href=\"#Imports-and-Constants\" data-toc-modified-id=\"Imports-and-Constants-3\"><span class=\"toc-item-num\">3&nbsp;&nbsp;</span>Imports and Constants</a></span></li><li><span><a href=\"#Constants\" data-toc-modified-id=\"Constants-4\"><span class=\"toc-item-num\">4&nbsp;&nbsp;</span>Constants</a></span></li><li><span><a href=\"#Export-Images\" data-toc-modified-id=\"Export-Images-5\"><span class=\"toc-item-num\">5&nbsp;&nbsp;</span>Export Images</a></span></li></ul></div>"
   ]
  },
  {
   "cell_type": "markdown",
   "metadata": {
    "id": "S4YUaGVppU4w"
   },
   "source": [
    "## Pre-requisites\n",
    "Register a Google account at [https://code.earthengine.google.com](https://code.earthengine.google.com). This process may take a couple of days. Without registration, the `ee.Initialize()` command below will throw an error message.\n",
    "\n",
    "## Instructions\n",
    "\n",
    "This notebook exports Landsat satellite image composites clusters from Google Earth Engine.\n",
    "\n",
    "The images are saved in gzipped TFRecord format. By default, this notebook exports images to Google Drive. If you instead prefer to export images to Google Cloud Storage (GCS), change the `EXPORT` constant below to `'gcs'` and set `BUCKET` to the desired GCS bucket name.\n",
    "\n",
    "\n",
    "|      | Google Drive (default) | GCS\n",
    "|------|:-----------------------|:---\n",
    "| VR  | `idhm_tfrecords_raw/`   | `{BUCKET}/idhm_tfrecords_raw/`\n",
    "\n",
    "Once the images have finished exporting, download the exported TFRecord files to the following folder:\n",
    "\n",
    "- VR: `data/idhm_tfrecords_raw/`\n",
    "\n",
    "The folder structure should look as follows:\n",
    "\n",
    "```\n",
    "data/\n",
    "    idhm_tfrecords_raw/\n",
    "        municipality1_2010_00.tfrecord.gz\n",
    "        municipality1_2010_01.tfrecord.gz\n",
    "        ...\n",
    "        municipality30_2010_XX.tfrecord.gz\n",
    "```"
   ]
  },
  {
   "cell_type": "markdown",
   "metadata": {
    "id": "IUSPcBwypZ0I"
   },
   "source": [
    "## Imports and Constants"
   ]
  },
  {
   "cell_type": "code",
   "execution_count": null,
   "metadata": {
    "id": "bKMoU1Jir_2s"
   },
   "outputs": [],
   "source": [
    "%load_ext autoreload\n",
    "%autoreload 2"
   ]
  },
  {
   "cell_type": "code",
   "execution_count": null,
   "metadata": {
    "id": "mIplSkhYsHNA"
   },
   "outputs": [],
   "source": [
    "from __future__ import annotations\n",
    "\n",
    "import math\n",
    "from typing import Any, Optional\n",
    "\n",
    "import ee\n",
    "import pandas as pd\n",
    "\n",
    "from preprocessing import ee_utils"
   ]
  },
  {
   "cell_type": "markdown",
   "metadata": {
    "id": "w8DTPh2BpgbT"
   },
   "source": [
    "Before using the Earth Engine API, you must perform a one-time authentication that authorizes access to Earth Engine on behalf of your Google account you registered at [https://code.earthengine.google.com](https://code.earthengine.google.com). The authentication process saves a credentials file to `$HOME/.config/earthengine/credentials` for future use.\n",
    "\n",
    "The following command `ee.Authenticate()` runs the authentication process. Once you successfully authenticate, you may comment out this command because you should not need to authenticate again in the future, unless you delete the credentials file. If you do not authenticate, the subsequent `ee.Initialize()` command below will fail.\n",
    "\n",
    "For more information, see [https://developers.google.com/earth-engine/python_install-conda.html](https://developers.google.com/earth-engine/python_install-conda.html).\n",
    "\n",
    "This link can help you to understand the functions related to earth engine  https://developers.google.com/earth-engine/apidocs"
   ]
  },
  {
   "cell_type": "code",
   "execution_count": null,
   "metadata": {
    "colab": {
     "base_uri": "https://localhost:8080/"
    },
    "id": "9Nvsu9sbsXkH",
    "outputId": "f450fb0a-c8ec-4d07-d61f-b91497cdeb43"
   },
   "outputs": [
    {
     "name": "stdout",
     "output_type": "stream",
     "text": [
      "To authorize access needed by Earth Engine, open the following URL in a web browser and follow the instructions. If the web browser does not start automatically, please manually browse the URL below.\n",
      "\n",
      "    https://accounts.google.com/o/oauth2/auth?client_id=517222506229-vsmmajv00ul0bs7p89v5m89qs8eb9359.apps.googleusercontent.com&scope=https%3A%2F%2Fwww.googleapis.com%2Fauth%2Fearthengine+https%3A%2F%2Fwww.googleapis.com%2Fauth%2Fdevstorage.full_control&redirect_uri=urn%3Aietf%3Awg%3Aoauth%3A2.0%3Aoob&response_type=code&code_challenge=eDRMlA2bsPEeDk5vnub1Lc2k2FrPmmKJlHhqZ0Dxz0A&code_challenge_method=S256\n",
      "\n",
      "The authorization workflow will generate a code, which you should paste in the box below. \n",
      "Enter verification code: 4/1AX4XfWgaPdyvAx5bvpg_OZgtPEnuJ6CF72jWoEaAEr1QcuiJNF6rxCptYc8\n",
      "\n",
      "Successfully saved authorization token.\n"
     ]
    }
   ],
   "source": [
    "ee.Authenticate()"
   ]
  },
  {
   "cell_type": "code",
   "execution_count": null,
   "metadata": {
    "id": "e6t_On0isYCL"
   },
   "outputs": [],
   "source": [
    "ee.Initialize()  # initialize the Earth Engine API"
   ]
  },
  {
   "cell_type": "markdown",
   "metadata": {
    "id": "4BSf-zQbsfWH"
   },
   "source": [
    "## Constants"
   ]
  },
  {
   "cell_type": "code",
   "execution_count": null,
   "metadata": {
    "id": "1sXoTYrKsezD"
   },
   "outputs": [],
   "source": [
    "# ========== ADAPT THESE PARAMETERS ==========\n",
    "\n",
    "# To export to Google Drive, uncomment the next 2 lines\n",
    "EXPORT = 'drive'\n",
    "BUCKET = None\n",
    "\n",
    "# To export to Google Cloud Storage (GCS), uncomment the next 2 lines\n",
    "# and set the bucket to the desired bucket name\n",
    "# EXPORT = 'gcs'\n",
    "# BUCKET = 'mybucket'\n",
    "\n",
    "# export location parameters\n",
    "EXPORT_FOLDER = 'idhm_tfrecords_raw'\n",
    "\n",
    "# Set CHUNK_SIZE to None to export a single TFRecord file per (country, year). However,\n",
    "# this may fail if it exceeds Google Earth Engine memory limits. Decrease CHUNK_SIZE\n",
    "# to a small number (<= 50) until Google Earth Engine stops reporting memory errors\n",
    "CHUNK_SIZE = 1"
   ]
  },
  {
   "cell_type": "code",
   "execution_count": null,
   "metadata": {
    "id": "LDuokUcjsokV"
   },
   "outputs": [],
   "source": [
    "# ========== DO NOT MODIFY THESE ==========\n",
    "\n",
    "# input data paths\n",
    "CSV_PATH = 'data/vr_clusters.csv'\n",
    "\n",
    "# band names\n",
    "MS_BANDS = ['BLUE', 'GREEN', 'RED', 'NIR', 'SWIR1', 'SWIR2', 'TEMP1']\n",
    "\n",
    "# image parameters\n",
    "PROJECTION = 'EPSG:3857'  # see https://epsg.io/3857\n",
    "SCALE = 30                # export resolution: 30m/px\n",
    "EXPORT_TILE_RADIUS = 127  # image dimension = (2*EXPORT_TILE_RADIUS) + 1 = 255px"
   ]
  },
  {
   "cell_type": "markdown",
   "metadata": {
    "id": "6PsSDjvasxQ3"
   },
   "source": [
    "## Export Images"
   ]
  },
  {
   "cell_type": "code",
   "execution_count": null,
   "metadata": {
    "id": "pKW5rNfYszAL"
   },
   "outputs": [],
   "source": [
    "def export_images(df: pd.DataFrame,\n",
    "                  municipality: str,\n",
    "                  year: int,\n",
    "                  export_folder: str,\n",
    "                  chunk_size: Optional[int] = None\n",
    "                  ) -> dict[tuple[str, str, int, int], ee.batch.Task]:\n",
    "    '''\n",
    "    Args\n",
    "    - df: pd.DataFrame, contains columns ['lat', 'lon', 'municipality', 'year']\n",
    "    - municipality: str, together with `year` determines the survey to export\n",
    "    - year: int, together with `municipality` determines the survey to export\n",
    "    - export_folder: str, name of folder for export\n",
    "    - chunk_size: int, optionally set a limit to the # of images exported per TFRecord file\n",
    "        - set to a small number (<= 50) if Google Earth Engine reports memory errors\n",
    "\n",
    "    Returns: dict, maps task name tuple (export_folder, municipality, year, chunk) to ee.batch.Task\n",
    "    '''\n",
    "    subset_df = df[(df['municipality'] == municipality) & (df['year'] == year)].reset_index(drop=True)\n",
    "    if chunk_size is None:\n",
    "        chunk_size = len(subset_df)\n",
    "    num_chunks = int(math.ceil(len(subset_df) / chunk_size))\n",
    "    tasks = {}\n",
    "\n",
    "    for i in range(num_chunks):\n",
    "        chunk_slice = slice(i * chunk_size, (i+1) * chunk_size - 1)  # df.loc[] is inclusive\n",
    "        fc = ee_utils.df_to_fc(subset_df.loc[chunk_slice, :])\n",
    "        start_date, end_date = ee_utils.surveyyear_to_range(year)\n",
    "\n",
    "        # create 3-year Landsat composite image\n",
    "        roi = fc.geometry()\n",
    "        imgcol = ee_utils.LandsatSR(roi, start_date=start_date, end_date=end_date).merged\n",
    "        # ee.ImageCollection.map: Maps an algorithm over a collection.\n",
    "        # ee.ImageCollection.select: Returns the image collection with selected bands.\n",
    "        imgcol = imgcol.map(ee_utils.mask_qaclear).select(MS_BANDS)\n",
    "        # ee.ImageCollection.median : Reduces an image collection by calculating the median of all values at each pixel across the stack of all matching bands. Bands are matched by name.\n",
    "        img = imgcol.median()\n",
    "\n",
    "        # add nightlights, latitude, and longitude bands\n",
    "        img = ee_utils.add_latlon(img)\n",
    "        img = img.addBands(ee_utils.composite_nl(year))\n",
    "\n",
    "        fname = f'{municipality}_{year}_{i:02d}'\n",
    "        tasks[(export_folder, municipality, year, i)] = ee_utils.get_array_patches(\n",
    "            img=img, scale=SCALE, ksize=EXPORT_TILE_RADIUS,\n",
    "            points=fc, export=EXPORT,\n",
    "            prefix=export_folder, fname=fname,\n",
    "            bucket=BUCKET)\n",
    "    return tasks"
   ]
  },
  {
   "cell_type": "code",
   "execution_count": null,
   "metadata": {
    "id": "bMBKWfjPs1ZL"
   },
   "outputs": [],
   "source": [
    "tasks: dict[tuple[str, str, int, int], ee.batch.Task] = {}"
   ]
  },
  {
   "cell_type": "code",
   "execution_count": null,
   "metadata": {
    "id": "zkZsNUOvs3TN"
   },
   "outputs": [],
   "source": [
    "idhm_df = pd.read_csv(CSV_PATH, float_precision='high', index_col=False)\n",
    "idhm_surveys = list(idhm_df.groupby(['municipality', 'year']).groups.keys())\n",
    "\n",
    "for municipality, year in idhm_surveys:\n",
    "    new_tasks = export_images(\n",
    "        df=idhm_df, municipality=municipality, year=year,\n",
    "        export_folder=EXPORT_FOLDER, chunk_size=CHUNK_SIZE)\n",
    "    tasks.update(new_tasks)"
   ]
  },
  {
   "cell_type": "markdown",
   "metadata": {
    "id": "t6_luscpu3Ad"
   },
   "source": [
    "Check on the status of each export task at https://code.earthengine.google.com/, or run the following cell which checks every minute. Once all tasks have completed, download the IDHM TFRecord files to data/idhm_tfrecords_raw/"
   ]
  }
 ],
 "metadata": {
  "colab": {
   "collapsed_sections": [],
   "name": "Download_Imagery.ipynb",
   "provenance": []
  },
  "instance_type": "ml.t3.medium",
  "kernelspec": {
   "display_name": "Python 3 (Data Science)",
   "language": "python",
   "name": "python3__SAGEMAKER_INTERNAL__arn:aws:sagemaker:us-east-1:081325390199:image/datascience-1.0"
  },
  "language_info": {
   "codemirror_mode": {
    "name": "ipython",
    "version": 3
   },
   "file_extension": ".py",
   "mimetype": "text/x-python",
   "name": "python",
   "nbconvert_exporter": "python",
   "pygments_lexer": "ipython3",
   "version": "3.7.10"
  }
 },
 "nbformat": 4,
 "nbformat_minor": 4
}
